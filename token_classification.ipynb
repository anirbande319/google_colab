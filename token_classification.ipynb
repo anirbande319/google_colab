{
  "nbformat": 4,
  "nbformat_minor": 0,
  "metadata": {
    "colab": {
      "provenance": [],
      "authorship_tag": "ABX9TyM3ekOMIzSija0oLeOdeF0S",
      "include_colab_link": true
    },
    "kernelspec": {
      "name": "python3",
      "display_name": "Python 3"
    },
    "language_info": {
      "name": "python"
    }
  },
  "cells": [
    {
      "cell_type": "markdown",
      "metadata": {
        "id": "view-in-github",
        "colab_type": "text"
      },
      "source": [
        "<a href=\"https://colab.research.google.com/github/anirbande319/google_colab/blob/main/token_classification.ipynb\" target=\"_parent\"><img src=\"https://colab.research.google.com/assets/colab-badge.svg\" alt=\"Open In Colab\"/></a>"
      ]
    },
    {
      "cell_type": "code",
      "execution_count": null,
      "metadata": {
        "id": "P1LE_S1wM0sQ"
      },
      "outputs": [],
      "source": [
        "from transformers import pipeline\n",
        "ner = pipeline(\"ner\" , grouped_entities = True) # ner means name-entities-recognition\n",
        "text = \"Elon Musk founded speceX in 2002 and tesla motores in 2003 \"\n",
        "entities = ner(text)\n",
        "print(entities)"
      ]
    },
    {
      "cell_type": "code",
      "source": [
        "for entity in entities:\n",
        " print(f\"{entity['word']} | {entity['entity_group']}\")"
      ],
      "metadata": {
        "id": "lzZ12rTuQfYf"
      },
      "execution_count": null,
      "outputs": []
    },
    {
      "cell_type": "code",
      "source": [
        "from transformers import pipeline\n",
        "pos_tagger = pipeline(model = \"vblagoje/bert-english-uncased-finetuned-pos\") # in the model name it is mention pos\n",
        "text = \"Elon Musk founded speceX in 2002 and tesla motores in 2003 \"\n",
        "pos_tags = pos_tagger(text)\n",
        "print(pos_tags)"
      ],
      "metadata": {
        "id": "8GpbaL0nR6Ps"
      },
      "execution_count": null,
      "outputs": []
    },
    {
      "cell_type": "code",
      "source": [
        "from transformers import pipeline\n",
        "fill_mask = pipeline(\"fill-mask\",model=\"bert-base-uncased\")\n",
        "text = \"The transformers library is [MASK] for natural language processing\"  # assume [MASK] is blank\n",
        "prediction = fill_mask(text)\n",
        "print(prediction)"
      ],
      "metadata": {
        "id": "N1g5w0TLS3d_"
      },
      "execution_count": null,
      "outputs": []
    },
    {
      "cell_type": "code",
      "source": [
        "from transformers import pipeline\n",
        "fill_mask = pipeline(\"fill-mask\")\n",
        "text = \"The transformers library is <mask> for natural language processing\"  # assume [MASK] is blank\n",
        "prediction = fill_mask(text)\n",
        "print(prediction)"
      ],
      "metadata": {
        "id": "nQf7P41tT2wz"
      },
      "execution_count": null,
      "outputs": []
    },
    {
      "cell_type": "code",
      "source": [
        "from transformers import pipeline\n",
        "generator = pipeline(\"text-generation\",model=\"GPT2\" )\n",
        "prompt = \"Once upon a time in a distant galaxy,\"\n",
        "generated_text=generator(prompt, max_length = 50 , num_return_sequences =1) # max_length=50 ,it is including the mention words in the sentences. num_return_sequences =1 meansit will generate one possible answer,not many.\n",
        "print(generated_text)"
      ],
      "metadata": {
        "id": "Zg402XwhVhUX"
      },
      "execution_count": null,
      "outputs": []
    },
    {
      "cell_type": "code",
      "source": [
        "from transformers import pipeline\n",
        "text = \"Trendytech is known for its Data Engineering Training Programs\"\n",
        "feature_extracture = pipeline(task=\"feature-extraction\")\n",
        "result = feature_extracture(text,return_tensors = \"pt\") #tensor means kind of metrix , pt = pytorch\n",
        "print(result)\n"
      ],
      "metadata": {
        "id": "tBrXNIGkYoV2"
      },
      "execution_count": null,
      "outputs": []
    },
    {
      "cell_type": "code",
      "source": [
        "print(result.shape)"
      ],
      "metadata": {
        "id": "mC5W3uuMZEPb"
      },
      "execution_count": null,
      "outputs": []
    },
    {
      "cell_type": "code",
      "source": [
        "from transformers import pipeline\n",
        "classifier = pipeline(\"sentiment-analysis\")\n",
        "text = \"The new iPhone is released with a better camera and improved battery life\"\n",
        "result = classifier(text)\n",
        "print(result)"
      ],
      "metadata": {
        "id": "u3K52dbUbg7P"
      },
      "execution_count": null,
      "outputs": []
    },
    {
      "cell_type": "code",
      "source": [
        "from transformers import pipeline\n",
        "classifier = pipeline(\"zero-shot-classification\", model=\"facebook/bart-large-mnli\")\n",
        "text = \"The new iPhone is released with a better camera and improved battery life\"\n",
        "candidate_lebels = [\"Technology\",\"Health\",\"Politics\",\"Sports\"]\n",
        "result = classifier(text,candidate_lebels)\n",
        "print(result)"
      ],
      "metadata": {
        "id": "52MQNp54cvGO"
      },
      "execution_count": null,
      "outputs": []
    }
  ]
}