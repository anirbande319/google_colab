{
  "nbformat": 4,
  "nbformat_minor": 0,
  "metadata": {
    "colab": {
      "provenance": [],
      "authorship_tag": "ABX9TyOvQDJaHOcw8TYr18WNH5Qr",
      "include_colab_link": true
    },
    "kernelspec": {
      "name": "python3",
      "display_name": "Python 3"
    },
    "language_info": {
      "name": "python"
    }
  },
  "cells": [
    {
      "cell_type": "markdown",
      "metadata": {
        "id": "view-in-github",
        "colab_type": "text"
      },
      "source": [
        "<a href=\"https://colab.research.google.com/github/anirbande319/google_colab/blob/main/transformer_library_learning.ipynb\" target=\"_parent\"><img src=\"https://colab.research.google.com/assets/colab-badge.svg\" alt=\"Open In Colab\"/></a>"
      ]
    },
    {
      "cell_type": "code",
      "execution_count": null,
      "metadata": {
        "id": "WkbKU9vvH3LN"
      },
      "outputs": [],
      "source": [
        "from transformers import pipeline\n",
        "\n",
        "classifier= pipeline(\"sentiment-analysis\")\n",
        "review=\"I love this movie!\"\n",
        "result=classifier(review)\n",
        "print(result)\n"
      ]
    },
    {
      "cell_type": "code",
      "source": [
        "from transformers import pipeline\n",
        "\n",
        "classifier= pipeline(\"sentiment-analysis\")\n",
        "review=\"this flim is waste of time\"\n",
        "result=classifier(review)\n",
        "print(result)"
      ],
      "metadata": {
        "id": "WOy3DkhBKwqj"
      },
      "execution_count": null,
      "outputs": []
    },
    {
      "cell_type": "code",
      "source": [
        "from transformers import pipeline\n",
        "\n",
        "classifier= pipeline(\"sentiment-analysis\")\n",
        "review=\"this flim was kind of ok\"\n",
        "result=classifier(review)\n",
        "print(result)"
      ],
      "metadata": {
        "id": "2U8lvmMbLG1z"
      },
      "execution_count": null,
      "outputs": []
    },
    {
      "cell_type": "code",
      "source": [
        "from transformers import pipeline  # transformers is a library\n",
        "\n",
        "classifier= pipeline(\"sentiment-analysis\")  # task = (\"sentiment-analysis\")\n",
        "review=[\"I love this movie!\",\"this flim is waste of time\"]\n",
        "result=classifier(review)\n",
        "print(result)"
      ],
      "metadata": {
        "id": "6mf_CGR1MAWi"
      },
      "execution_count": null,
      "outputs": []
    },
    {
      "cell_type": "code",
      "source": [
        "from transformers import pipeline  # transformers is a library\n",
        "\n",
        "classifier= pipeline(\"sentiment-analysis\")  # task = (\"sentiment-analysis\")\n",
        "review=[\"I love this movie!\",\"this flim is waste of time\"]\n",
        "results=classifier(review)\n",
        "print(results)"
      ],
      "metadata": {
        "id": "N569ETmvnkZZ"
      },
      "execution_count": null,
      "outputs": []
    },
    {
      "cell_type": "code",
      "source": [
        "from transformers import pipeline  # transformers is a library\n",
        "\n",
        "classifier= pipeline(\"sentiment-analysis\")  # task = (\"sentiment-analysis\")\n",
        "reviews=[\"I love this movie!\",\"this flim is waste of time\"]\n",
        "results=classifier(reviews)\n",
        "print(results)"
      ],
      "metadata": {
        "id": "C9C3LnfQoHXp"
      },
      "execution_count": null,
      "outputs": []
    },
    {
      "cell_type": "code",
      "source": [
        "for review,result in zip(reviews,results):\n",
        " print(f\"Review: {review} | Sentiment: {result['label']} | Score: {result['score']}\")"
      ],
      "metadata": {
        "id": "J7arLzBaoUjW"
      },
      "execution_count": null,
      "outputs": []
    }
  ]
}
