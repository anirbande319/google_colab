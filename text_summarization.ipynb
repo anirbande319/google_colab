{
  "nbformat": 4,
  "nbformat_minor": 0,
  "metadata": {
    "colab": {
      "provenance": [],
      "authorship_tag": "ABX9TyM3yb4KIJC0CYzo0a88U6iY",
      "include_colab_link": true
    },
    "kernelspec": {
      "name": "python3",
      "display_name": "Python 3"
    },
    "language_info": {
      "name": "python"
    }
  },
  "cells": [
    {
      "cell_type": "markdown",
      "metadata": {
        "id": "view-in-github",
        "colab_type": "text"
      },
      "source": [
        "<a href=\"https://colab.research.google.com/github/anirbande319/google_colab/blob/main/text_summarization.ipynb\" target=\"_parent\"><img src=\"https://colab.research.google.com/assets/colab-badge.svg\" alt=\"Open In Colab\"/></a>"
      ]
    },
    {
      "cell_type": "code",
      "execution_count": null,
      "metadata": {
        "id": "0ZenQ8sOCUnc"
      },
      "outputs": [],
      "source": [
        "text = \"\"\"Artificial Intelligence (AI) has rapidly become an integral part of our daily lives. From voice assistants like Siri and Alexa to recommendation systems on platforms like Netflix and Amazon, AI is shaping how we interact with technology. It is no longer confined to the realm of science fiction but is now a practical tool that enhances efficiency and convenience.\n",
        "One of the key drivers of AI adoption is its ability to analyze vast amounts of data and make predictions or decisions faster than humans. In industries like healthcare, AI-powered systems are used to detect diseases such as cancer in their early stages, saving countless lives. Similarly, in the financial sector, AI algorithms help identify fraudulent transactions and streamline investment strategies.\n",
        "However, the rise of AI also raises ethical concerns. Issues such as data privacy, algorithmic bias, and job displacement are frequently debated. While AI can improve productivity, it also has the potential to replace human jobs, particularly in repetitive or manual tasks. This highlights the need for responsible AI development and robust regulations to ensure that technology benefits everyone.\n",
        "Despite these challenges, the potential of AI is immense. Researchers are constantly working on advancements in natural language processing, computer vision, and machine learning to make AI even more intelligent and adaptable. As technology continues to evolve, it is likely that AI will play an even greater role in shaping our future.\"\"\"\n",
        "\n",
        "from transformers import pipeline\n",
        "summarizer = pipeline(\"summarization\",min_length=30,max_length=90)  # here we need to use summerization task, 30 tokens and 90 tokens\n",
        "summary = summarizer(text)\n",
        "print(summary)"
      ]
    },
    {
      "cell_type": "code",
      "source": [
        "from transformers import pipeline\n",
        "summarizer = pipeline(task=\"summarization\", model=\"t5-small\" , min_length=30,max_length=90)  # here we need to use summerization task, 30 tokens and 90 tokens\n",
        "summary = summarizer(text)\n",
        "print(summary)"
      ],
      "metadata": {
        "id": "3PuXoBq8Cgyo"
      },
      "execution_count": null,
      "outputs": []
    },
    {
      "cell_type": "code",
      "source": [
        "from transformers import pipeline\n",
        "summarizer = pipeline( model=\"t5-small\" , min_length=30,max_length=90)  # here we need to use summerization task, 30 tokens and 90 tokens\n",
        "summary = summarizer(text)\n",
        "print(summary)"
      ],
      "metadata": {
        "id": "JkEGp88VFEll"
      },
      "execution_count": null,
      "outputs": []
    },
    {
      "cell_type": "code",
      "source": [
        "from transformers import pipeline\n",
        "qa = pipeline(\"question-answering\") # u give it a question and u give a context then from that context it will give it answer\n",
        "contxt = \"The Transformers library by Hugging Face provides state-of-the-art NLP models. It supports tasks like translation, summarization, and question answering.\"\n",
        "qus = \"What does the Transformers library support?\"\n",
        "result = qa(question=qus,context=contxt)\n",
        "print(result)"
      ],
      "metadata": {
        "id": "EQUbAfPMHYDE"
      },
      "execution_count": null,
      "outputs": []
    },
    {
      "cell_type": "code",
      "source": [
        "print(result['answer'])"
      ],
      "metadata": {
        "id": "QaoO3umNH-X-"
      },
      "execution_count": null,
      "outputs": []
    },
    {
      "cell_type": "code",
      "source": [
        "from transformers import pipeline\n",
        "translator = pipeline(\"translation_en_to_fr\",model=\"t5-small\")\n",
        "text = \"trendytech offers high quaity bigdata trainings\"\n",
        "result = translator(text)\n",
        "print(result)"
      ],
      "metadata": {
        "id": "hKZjYBsvI2PV"
      },
      "execution_count": null,
      "outputs": []
    },
    {
      "cell_type": "code",
      "source": [
        "print(result[0]['translation_text'])"
      ],
      "metadata": {
        "id": "lfXWq1UuI29I"
      },
      "execution_count": null,
      "outputs": []
    },
    {
      "cell_type": "code",
      "source": [],
      "metadata": {
        "id": "k8f5xB5OJcXv"
      },
      "execution_count": null,
      "outputs": []
    }
  ]
}